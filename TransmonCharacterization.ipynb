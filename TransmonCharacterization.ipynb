{
 "cells": [
  {
   "cell_type": "code",
   "execution_count": 1,
   "metadata": {},
   "outputs": [],
   "source": [
    "import qutip as qt\n",
    "import numpy as np\n",
    "import matplotlib.pyplot as plt\n",
    "import scqubits as scq\n",
    "import pandas as pd\n",
    "\n",
    "from qiskit_metal.analyses.hamiltonian.transmon_charge_basis import Hcpb\n",
    "from qiskit_metal.analyses.hamiltonian.transmon_CPB_analytic import Hcpb_analytic\n",
    "%matplotlib inline\n"
   ]
  },
  {
   "cell_type": "code",
   "execution_count": 22,
   "metadata": {},
   "outputs": [],
   "source": [
    "# Ec is set to 250Mhz and a Ej/Ec ratio of 70 is initialised\n",
    "E_C_main = 250\n",
    "ratio_main = 70\n",
    "E_J_main = ratio_main * E_C_main\n",
    "\n",
    "# Pre-Pulse Hamiltonian\n",
    "H_norm_i = Hcpb(nlevels=2, Ej=E_J_main, Ec=E_C_main, ng=0.5)\n",
    "# Pulsed Hamiltonian\n",
    "H_norm_p = Hcpb(nlevels=2, Ej=E_J_main*0.01, Ec=E_C_main, ng=0.5)\n"
   ]
  },
  {
   "cell_type": "code",
   "execution_count": 31,
   "metadata": {},
   "outputs": [],
   "source": [
    "def plot_eigenenergies_offset_charge(ng_vec, E_J, E_C, max_level, ax):\n",
    "    E_dict = {}\n",
    "    H_norm = Hcpb(nlevels=2, Ej=E_J, Ec=E_C, ng=0.5)\n",
    "    norm = H_norm.fij(0,1)\n",
    "\n",
    "\n",
    "    for m in range(0, max_level+1):\n",
    "        E_dict[f\"E{m}\"] = []\n",
    "\n",
    " \n",
    "    for i in ng_vec:\n",
    "        H = Hcpb(nlevels=max_level+1, Ej=E_J, Ec=E_C, ng=i)\n",
    "\n",
    "        for m in range(0, max_level+1):\n",
    "            E_dict[f\"E{m}\"].append(H.evalue_k(m)/norm)\n",
    "    \n",
    "    floor = min(E_dict[\"E0\"])\n",
    "\n",
    "    for m in range(0, max_level+1):\n",
    "        ax.plot(ng_vec, E_dict[f\"E{m}\"])\n",
    "    ax.set_xlabel(\"ng\")\n",
    "    ax.set_ylabel(\"Em/E01\")\n",
    "    ax.set_title(f\"Ej:{E_J}, Ec:{E_C}, ratio:{E_J/E_C}\")\n",
    "\n",
    "def plot_charge_dispersion(ratio_vec, E_c, max_level, ax):\n",
    "    ep_dict={}\n",
    "    for m in range(0, max_level+1):\n",
    "        ep_dict[f\"ep{m}\"] = []\n",
    "\n",
    "    for i in ratio_vec:\n",
    "        E_j = i*E_c\n",
    "        H_zero = Hcpb(nlevels=15, Ej=i*E_c, Ec=E_c, ng=0.0)\n",
    "        H_half = Hcpb(nlevels=15, Ej=i*E_c, Ec=E_c, ng=0.5)\n",
    "\n",
    "        H_norm = Hcpb(nlevels=15, Ej=i*E_c, Ec=E_c, ng=0.5)\n",
    "        norm = H_norm.fij(0,1)                         # normalization constant\n",
    "\n",
    "\n",
    "        for m in range(0, max_level+1):\n",
    "            ep_dict[f\"ep{m}\"].append(abs(H_half.evalue_k(m) - H_zero.evalue_k(m))/norm)\n",
    "    \n",
    "    for m in range(0, max_level+1):\n",
    "        ax.plot(ratio_vec, ep_dict[f\"ep{m}\"], label=f\"m={m}\")\n",
    "        \n",
    "    ax.set_yscale(\"log\")\n",
    "    ax.set_xlabel(\"EJ/Ec\")\n",
    "    ax.set_ylabel(\"Epsilon/E01\")\n",
    "    ax.set_title(f\"Ec:{E_c}\")\n",
    "    ax.legend(title=\"Energy Level\", loc='upper right')\n",
    "\n",
    "def plot_anharmonicity(ratio_vec, E_c, ax_n, ax_r):\n",
    "    alpha = []\n",
    "    alpha_r = []\n",
    "\n",
    "    for i in ratio_vec:\n",
    "        H_anharm = Hcpb(nlevels=15, Ej=i*E_c, Ec=E_c, ng=0.5)\n",
    "        alpha.append(H_anharm.anharm())\n",
    "        alpha_r.append(H_anharm.anharm()/H_anharm.fij(0,1))    \n",
    "\n",
    "\n",
    "    ax_n.plot(ratio_vec,alpha)\n",
    "    ax_n.set_xlabel(\"Ej/Ec\")\n",
    "    ax_n.set_ylabel(\"alpha\")\n",
    "    ax_r.plot(ratio_vec,alpha_r)\n",
    "    ax_r.set_ylim(-0.2, 1.0)\n",
    "    ax_r.set_xlabel(\"Ej/Ec\") \n",
    "    ax_r.set_ylabel(\"alpha_r\")\n",
    "    ax_n.set_title(f\"anharmonicity with Ec:{E_c}\")\n",
    "    ax_r.set_title(f\"relative anharmonicity with Ec:{E_c}\")"
   ]
  },
  {
   "cell_type": "markdown",
   "metadata": {},
   "source": [
    "# Visualisation of the Characteristics of a Transmon"
   ]
  },
  {
   "cell_type": "code",
   "execution_count": null,
   "metadata": {},
   "outputs": [],
   "source": [
    "## Constant ratio, varying EJ and Ec\n",
    "fig, ax = plt.subplots(4, 2,  figsize=(15, 15))\n",
    "plot_eigenenergies_offset_charge(ng_vec=np.linspace(-2.0,2.0,101), E_J=100*70, E_C=100, max_level = 2, ax=ax[0][0])\n",
    "plot_eigenenergies_offset_charge(ng_vec=np.linspace(-2.0,2.0,101), E_J=100*70*0.01, E_C=100, max_level = 2, ax=ax[0][1])\n",
    "plot_eigenenergies_offset_charge(ng_vec=np.linspace(-2.0,2.0,101), E_J=250*70, E_C=250, max_level = 2, ax=ax[1][0])\n",
    "plot_eigenenergies_offset_charge(ng_vec=np.linspace(-2.0,2.0,101), E_J=250*70*0.01, E_C=250, max_level = 2, ax=ax[1][1])\n",
    "plot_eigenenergies_offset_charge(ng_vec=np.linspace(-2.0,2.0,101), E_J=750*70, E_C=750, max_level = 2, ax=ax[2][0])\n",
    "plot_eigenenergies_offset_charge(ng_vec=np.linspace(-2.0,2.0,101), E_J=750*70*0.01, E_C=750, max_level = 2, ax=ax[2][1])\n",
    "plot_eigenenergies_offset_charge(ng_vec=np.linspace(-2.0,2.0,101), E_J=1200*70, E_C=1200, max_level = 2, ax=ax[3][0])\n",
    "plot_eigenenergies_offset_charge(ng_vec=np.linspace(-2.0,2.0,101), E_J=1200*70*0.01, E_C=1200, max_level = 2, ax=ax[3][1])\n",
    "fig.tight_layout()\n",
    "plt.savefig(\"images/const_ratio_vary_Ej_Ec_E-vs-ng.png\")\n",
    "plt.show()"
   ]
  },
  {
   "cell_type": "code",
   "execution_count": null,
   "metadata": {},
   "outputs": [],
   "source": [
    "## Constant EJ, varying Ec\n",
    "fig, ax = plt.subplots(4, 2,  figsize=(15, 15))\n",
    "plot_eigenenergies_offset_charge(ng_vec=np.linspace(-2.0,2.0,101), E_J=20000, E_C=100, max_level = 2, ax=ax[0][0])\n",
    "plot_eigenenergies_offset_charge(ng_vec=np.linspace(-2.0,2.0,101), E_J=20000*0.01, E_C=100, max_level = 2, ax=ax[0][1])\n",
    "plot_eigenenergies_offset_charge(ng_vec=np.linspace(-2.0,2.0,101), E_J=20000, E_C=250, max_level = 2, ax=ax[1][0])\n",
    "plot_eigenenergies_offset_charge(ng_vec=np.linspace(-2.0,2.0,101), E_J=20000*0.01, E_C=250, max_level = 2, ax=ax[1][1])\n",
    "plot_eigenenergies_offset_charge(ng_vec=np.linspace(-2.0,2.0,101), E_J=20000, E_C=750, max_level = 2, ax=ax[2][0])\n",
    "plot_eigenenergies_offset_charge(ng_vec=np.linspace(-2.0,2.0,101), E_J=20000*0.01, E_C=750, max_level = 2, ax=ax[2][1])\n",
    "plot_eigenenergies_offset_charge(ng_vec=np.linspace(-2.0,2.0,101), E_J=20000, E_C=1200, max_level = 2, ax=ax[3][0])\n",
    "plot_eigenenergies_offset_charge(ng_vec=np.linspace(-2.0,2.0,101), E_J=20000*0.01, E_C=1200, max_level = 2, ax=ax[3][1])\n",
    "fig.tight_layout()\n",
    "plt.savefig(\"images/const_Ejmax_vary_Ec_E-vs-ng.png\")\n",
    "plt.show()"
   ]
  },
  {
   "cell_type": "code",
   "execution_count": null,
   "metadata": {},
   "outputs": [],
   "source": [
    "fig, ax = plt.subplots(3, 2,  figsize=(15, 15))\n",
    "\n",
    "plot_charge_dispersion(ratio_vec=np.linspace(0.01, 100, 101), E_c=250, max_level=2, ax = ax[0][0])\n",
    "plot_charge_dispersion(ratio_vec=np.linspace(0.01, 1, 101), E_c=250, max_level=2, ax = ax[0][1])\n",
    "plot_charge_dispersion(ratio_vec=np.linspace(1, 100, 101), E_c=500, max_level=2, ax = ax[1][0])\n",
    "plot_charge_dispersion(ratio_vec=np.linspace(0.01, 1, 101), E_c=500, max_level=2, ax = ax[1][1])\n",
    "plot_charge_dispersion(ratio_vec=np.linspace(1, 100, 101), E_c=1000, max_level=2, ax = ax[2][0])\n",
    "plot_charge_dispersion(ratio_vec=np.linspace(0.01, 1, 101), E_c=1000, max_level=2, ax = ax[2][1])\n",
    "fig.tight_layout()\n",
    "plt.savefig(\"images/charge_dispersion_varying_Ec.png\")\n",
    "plt.show()"
   ]
  },
  {
   "cell_type": "code",
   "execution_count": null,
   "metadata": {},
   "outputs": [],
   "source": [
    "fig, ax = plt.subplots(3, 2,  figsize=(15, 15))\n",
    "plot_anharmonicity(ratio_vec=np.linspace(0.1, 100, 101), E_c=250, ax_n = ax[0][0], ax_r=ax[0][1])\n",
    "plot_anharmonicity(ratio_vec=np.linspace(0.1, 100, 101), E_c=500, ax_n = ax[1][0], ax_r=ax[1][1])\n",
    "plot_anharmonicity(ratio_vec=np.linspace(0.1, 100, 101), E_c=1000,ax_n = ax[2][0], ax_r=ax[2][1])\n",
    "fig.tight_layout()\n",
    "plt.savefig(\"images/anharmonicity_varying_Ec.png\")\n",
    "plt.show()"
   ]
  },
  {
   "cell_type": "code",
   "execution_count": null,
   "metadata": {},
   "outputs": [],
   "source": []
  }
 ],
 "metadata": {
  "kernelspec": {
   "display_name": "quantumSystems",
   "language": "python",
   "name": "python3"
  },
  "language_info": {
   "codemirror_mode": {
    "name": "ipython",
    "version": 3
   },
   "file_extension": ".py",
   "mimetype": "text/x-python",
   "name": "python",
   "nbconvert_exporter": "python",
   "pygments_lexer": "ipython3",
   "version": "3.10.11"
  },
  "orig_nbformat": 4
 },
 "nbformat": 4,
 "nbformat_minor": 2
}
