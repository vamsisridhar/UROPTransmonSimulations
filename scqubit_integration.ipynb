{
 "cells": [
  {
   "cell_type": "code",
   "execution_count": 2,
   "metadata": {},
   "outputs": [],
   "source": [
    "import matplotlib.pyplot as plt\n",
    "import numpy as np\n",
    "from qutip import *\n",
    "import scipy.integrate as integrate\n",
    "import pandas as pd\n",
    "import scipy.constants as sc\n",
    "from tqdm import tqdm\n",
    "import scqubits as scq\n",
    "\n",
    "import scipy.signal as ss"
   ]
  },
  {
   "cell_type": "code",
   "execution_count": 72,
   "metadata": {},
   "outputs": [],
   "source": [
    "def hamiltonian(t, args):\n",
    "\n",
    "    if len(args) == 8:\n",
    "        flux = EJ_double_pulse(t, args[\"P0\"], args[\"R0\"], args[\"T1\"], args[\"T2\"])\n",
    "    else:\n",
    "        flux = 1\n",
    "\n",
    "    transmon = scq.TunableTransmon(args[\"Ej\"], args[\"Ec\"],0.0, flux , args[\"ng\"], args[\"N\"])\n",
    "    \n",
    "    return Qobj(transmon.hamiltonian())\n",
    "\n",
    "\n",
    "def EJ_tanh_pulse(t, P0, R0, T):\n",
    "    return (1-P0*(1+np.tanh(-R0+(t/T)*2*R0))/2.0)\n",
    "\n",
    "def EJ_double_pulse(t, P0, R0, T1, T2):\n",
    "    return EJ_tanh_pulse(t, P0, R0, T1) + (EJ_tanh_pulse(t - T2, -P0, R0, T1) - 1)\n",
    "\n",
    "def Hc(Ec, Ej, N, ng):\n",
    "    \"\"\"\n",
    "    Reutrn the charging term of the charge qubit hamiltonian as a Qobj instance\n",
    "    \"\"\"\n",
    "    m = np.diag(4 * Ec * (np.arange(-N,N+1)-ng)**2) \n",
    "    \n",
    "    return Qobj(m)\n",
    "\n",
    "def Hj(Ec, Ej, N, ng):\n",
    "    \"\"\"\n",
    "    Reutrn the Josephson term of the charge qubit hamiltonian as a Qobj instance\n",
    "    \"\"\"\n",
    "    m = 0.5 * Ej * (np.diag(-np.ones(2*N), 1) +  np.diag(-np.ones(2*N), -1))\n",
    "    return Qobj(m)"
   ]
  },
  {
   "cell_type": "code",
   "execution_count": 73,
   "metadata": {},
   "outputs": [],
   "source": [
    "# Test Tunable Transmon\n",
    "\n",
    "Ej= 70.0\n",
    "Ec= 1.0\n",
    "ng= 0.5\n",
    "N = 10\n",
    "P0= 0.5\n",
    "R0=  100\n",
    "T1= 100\n",
    "T2= 350\n",
    "Tmax= 300\n",
    "t = np.linspace(0,T1, Tmax)"
   ]
  },
  {
   "cell_type": "code",
   "execution_count": 15,
   "metadata": {},
   "outputs": [
    {
     "data": {
      "text/latex": [
       "$ \\left(3.986711 n_{1}^{2} + 3.986711 n_{g1}^{2} + 7.973422 n_{1} n_{g1}\\right) - 70.0 \\cos{\\left(θ_{1} \\right)} $"
      ],
      "text/plain": [
       "<IPython.core.display.Latex object>"
      ]
     },
     "metadata": {},
     "output_type": "display_data"
    }
   ],
   "source": [
    "zp_yaml = \"\"\"# zero-pi\n",
    "branches:\n",
    "- [JJ,1,2,70,1]\n",
    "- [C,1,2,300]\n",
    "- [C,2,0,200]\n",
    "\"\"\"\n",
    "\n",
    "zero_pi = scq.Circuit(zp_yaml, from_file=False)\n",
    "zero_pi.sym_hamiltonian()"
   ]
  },
  {
   "cell_type": "code",
   "execution_count": null,
   "metadata": {},
   "outputs": [],
   "source": []
  }
 ],
 "metadata": {
  "kernelspec": {
   "display_name": "quantumSystems",
   "language": "python",
   "name": "python3"
  },
  "language_info": {
   "codemirror_mode": {
    "name": "ipython",
    "version": 3
   },
   "file_extension": ".py",
   "mimetype": "text/x-python",
   "name": "python",
   "nbconvert_exporter": "python",
   "pygments_lexer": "ipython3",
   "version": "3.10.11"
  },
  "orig_nbformat": 4
 },
 "nbformat": 4,
 "nbformat_minor": 2
}
