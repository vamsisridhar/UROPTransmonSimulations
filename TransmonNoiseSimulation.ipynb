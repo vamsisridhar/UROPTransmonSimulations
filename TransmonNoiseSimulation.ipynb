{
 "cells": [
  {
   "cell_type": "code",
   "execution_count": 1,
   "metadata": {},
   "outputs": [],
   "source": [
    "import qutip as qt\n",
    "import numpy as np\n",
    "import matplotlib.pyplot as plt\n",
    "import scqubits as scq\n",
    "import pandas as pd\n",
    "from matplotlib.animation import FuncAnimation\n",
    "import scipy.constants as sconst\n",
    "\n",
    "%matplotlib widget"
   ]
  },
  {
   "cell_type": "code",
   "execution_count": 16,
   "metadata": {},
   "outputs": [],
   "source": [
    "ratio = 100\n",
    "Ec = 0.25\n",
    "Ej = Ec*ratio\n",
    "N = 10 # number of levels in charge basis\n",
    "ng = 0.5\n",
    "\n",
    "T_max = 250\n",
    "T1 = 50\n",
    "T2 = 400\n",
    "\n",
    "P0=0.99\n",
    "R0 = 2.5 * np.pi\n",
    "\n",
    "def hamiltonian(Ec, Ej, N, ng):\n",
    "    \"\"\"\n",
    "    Return the charge qubit hamiltonian as a Qobj instance.\n",
    "    \"\"\"\n",
    "    m = np.diag(4 * Ec * (np.arange(-N,N+1)+ng)**2) + 0.5 * Ej * (np.diag(-np.ones(2*N), 1) + \n",
    "                                                               np.diag(-np.ones(2*N), -1))\n",
    "                                                               \n",
    "    return qt.Qobj(m)\n",
    "\n",
    "def Hc(Ec, N, ng):\n",
    "    \n",
    "    m = np.diag(4 * Ec * (np.arange(-N,N+1)-ng)**2) \n",
    "    \n",
    "    return qt.Qobj(m)\n",
    "\n",
    "def Hj(Ej, N, ng):\n",
    "    \n",
    "    m = 0.5 * Ej * (np.diag(-np.ones(2*N), 1) + np.diag(-np.ones(2*N), -1))\n",
    "    \n",
    "    return qt.Qobj(m)\n",
    "\n",
    "H_c = Hc(Ec=Ec, N=N, ng = ng)\n",
    "H_j = Hj(Ej=Ej, N=N, ng=ng)\n",
    "\n",
    "H_tot = hamiltonian(Ec, Ej, N, ng)\n",
    "def EJ_tanh_pulse(t, P0, R0, T):\n",
    "    return (1-P0*(1+np.tanh(-R0+(t/T)*2*R0))/2.0)\n",
    "\n",
    "def EJ_double_pulse(t, P0, R0, T1, T2):\n",
    "    return EJ_tanh_pulse(t, P0, R0, T1) + (EJ_tanh_pulse(t - T2, -P0, R0, T1) - 1)\n",
    "\n",
    "# Time depenedent part (drive) of Hamiltonian\n",
    "\n",
    "\n",
    "\n",
    "def Hd_coeff(t,args):\n",
    "    Percentage=args['P0']\n",
    "    Range=args['R0']\n",
    "    T1=args['T1']\n",
    "    T2=args['T2']\n",
    "    return EJ_double_pulse(t, Percentage, Range, T1, T2)\n",
    "\n",
    "def dH_dng(Ec, N, ng):\n",
    "    m = np.diag(8 * Ec * (np.arange(-N,N+1)+ng)) \n",
    "    return qt.Qobj(m)"
   ]
  },
  {
   "cell_type": "code",
   "execution_count": 25,
   "metadata": {},
   "outputs": [
    {
     "data": {
      "text/latex": [
       "Quantum object: dims = [[5], [5]], shape = (5, 5), type = oper, isherm = True $ \\\\ \\left(\\begin{matrix}6.763\\times10^{-21} & 6.810 & 2.999\\times10^{-20} & 0.004 & 2.579\\times10^{-18}\\\\6.810 & 5.709\\times10^{-18} & 13.067 & 5.374\\times10^{-18} & 0.018\\\\2.999\\times10^{-20} & 13.067 & 1.112\\times10^{-15} & 18.704 & 2.690\\times10^{-16}\\\\0.004 & 5.374\\times10^{-18} & 18.704 & 8.834\\times10^{-14} & 23.625\\\\2.579\\times10^{-18} & 0.018 & 2.690\\times10^{-16} & 23.625 & 3.581\\times10^{-12}\\\\\\end{matrix}\\right)$"
      ],
      "text/plain": [
       "Quantum object: dims = [[5], [5]], shape = (5, 5), type = oper, isherm = True\n",
       "Qobj data =\n",
       "[[6.76284319e-21 6.80988220e+00 2.99893791e-20 4.02519893e-03\n",
       "  2.57934554e-18]\n",
       " [6.80988220e+00 5.70860305e-18 1.30671495e+01 5.37367243e-18\n",
       "  1.80451894e-02]\n",
       " [2.99893888e-20 1.30671495e+01 1.11244350e-15 1.87041052e+01\n",
       "  2.69027193e-16]\n",
       " [4.02519893e-03 5.37367011e-18 1.87041052e+01 8.83353642e-14\n",
       "  2.36246711e+01]\n",
       " [2.57934537e-18 1.80451894e-02 2.69027193e-16 2.36246711e+01\n",
       "  3.58095100e-12]]"
      ]
     },
     "execution_count": 25,
     "metadata": {},
     "output_type": "execute_result"
    }
   ],
   "source": [
    "Points=10000\n",
    "tlist = np.linspace(0, T_max, Points)\n",
    "H_tot_tdep = [H_c, [H_j, Hd_coeff]]\n",
    "evals, ekets = H_tot.eigenstates()\n",
    "\n",
    "charge_noise_op = dH_dng(Ec, N, ng)\n",
    "gamma_matrix = np.zeros((2*N+1, 2*N+1))\n",
    "for i in range(2*N+1):\n",
    "    for j in range(2*N+1):\n",
    "        gamma_matrix[i, j] = np.abs(charge_noise_op.matrix_element(ekets[i], ekets[j]))**2\n",
    "\n",
    "qt.Qobj(gamma_matrix[0:7, 0:7])"
   ]
  },
  {
   "cell_type": "code",
   "execution_count": 23,
   "metadata": {},
   "outputs": [
    {
     "data": {
      "text/plain": [
       "1.1764705882352942e-05"
      ]
     },
     "execution_count": 23,
     "metadata": {},
     "output_type": "execute_result"
    }
   ],
   "source": []
  },
  {
   "cell_type": "code",
   "execution_count": null,
   "metadata": {},
   "outputs": [],
   "source": []
  }
 ],
 "metadata": {
  "kernelspec": {
   "display_name": "quantumSystems",
   "language": "python",
   "name": "python3"
  },
  "language_info": {
   "codemirror_mode": {
    "name": "ipython",
    "version": 3
   },
   "file_extension": ".py",
   "mimetype": "text/x-python",
   "name": "python",
   "nbconvert_exporter": "python",
   "pygments_lexer": "ipython3",
   "version": "3.10.11"
  },
  "orig_nbformat": 4
 },
 "nbformat": 4,
 "nbformat_minor": 2
}
